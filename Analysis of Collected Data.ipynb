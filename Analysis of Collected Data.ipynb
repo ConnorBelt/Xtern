{
 "cells": [
  {
   "cell_type": "markdown",
   "metadata": {},
   "source": [
    "# WRITTEN ANALYSIS OF COLLECTED DATA\n",
    "\n",
    "## What this notebook shows\n",
    "This notebook shows the total combined distances from each housing location to all of the different restaurants, events, and confrence locations based off of their latitude and longitude coordinates. The distances are given in miles for each location. \n",
    "\n",
    "### Where I Started\n",
    "I originally started by putting together a ten week activity plan based off of events and restraunts that were most popular in Indianapolis. I made the assumption that the items marked most popular through the open source API's would also have many more popular events and locations emerge around it. By looking at the most popular locations, this will give me a general hotspot of activity. Once I had my activity plan created I decided to utilize geojson to creat a visual representation of my data. For each of the activity types I defined them by a different colored marker to make the map easier to interpret. I added columns for marker color, address, activity, activity name, date, and description. Once this was complete I experted all the data along with the latitude and longitude coordinates for each location to a csv file. This file can be used as my activity plan for the ten weeks. Then using python I analyzed the data to find the total distance from each of the housing coordinates to the remaining activity coordinates. The code can be seen below."
   ]
  },
  {
   "cell_type": "code",
   "execution_count": 3,
   "metadata": {
    "scrolled": true
   },
   "outputs": [
    {
     "name": "stdout",
     "output_type": "stream",
     "text": [
      "Housing: IUPUI, Total Distance Traveled to Activities: 73.14812498954252\n",
      "Housing: The Speak Easy, Total Distance Traveled to Activities: 76.57179687573193\n",
      "Housing: zWORKS, Total Distance Traveled to Activities: 192.40760572364206\n",
      "Housing: Launch Fishers, Total Distance Traveled to Activities: 215.55867318280193\n",
      "Housing: Industrious Mass Ave, Total Distance Traveled to Activities: 80.07867947839887\n",
      "Housing: Launch Indy, Total Distance Traveled to Activities: 129.59427620845554\n"
     ]
    }
   ],
   "source": [
    "import pandas as pd\n",
    "from geopy import distance\n",
    "\n",
    "data = pd.read_csv('ActivityPlan.csv')\n",
    "\n",
    "data['lon'].astype(float)\n",
    "data['lat'].astype(float)\n",
    "name = data['Activity Name']\n",
    "housing = data.loc[data['Activity'] == 'Housing ']\n",
    "event = data.loc[data['Activity'] != 'Housing ']\n",
    "\n",
    "coord1 = list(zip((housing['lat']),(housing['lon'])))\n",
    "coord2 = list(zip((event['lat']),(event['lon'])))\n",
    "\n",
    "for j in range(0,6):\n",
    "    dis = 0\n",
    "    for i in range(0,16):\n",
    "        k = distance.distance(coord1[j],coord2[i]).miles\n",
    "        dis = dis+k\n",
    "    print(\"Housing: {}, Total Distance Traveled to Activities: {}\".format(name[j],dis))\n"
   ]
  },
  {
   "cell_type": "markdown",
   "metadata": {},
   "source": [
    "### Interpretation of the Results\n",
    "From this data, we can see that housing option number one appears to be the best option. By choosing to stay at IUPUI, the least amount of travel is required by the interns. While this data only shows the travel in one direction from IUPUI to the restaurant or event, this shows that the housing is located in the most ideal location. This data can be confirmed by looking at the visual representation made on geojson. When looking at this map, it can be seen that most of the popular activities going on in Indianapolis occur around downtown and less around the outskirt of the city. Since IUPUI is in the middle of the downtown area, the location places it right in the middle of all the activities, requiring less need for long transportation. While this data is limited to popular events and restaurants going on around downtown Indianapolis, it can also be known that IUPUI has a booming college population. Due to this environment, it is known that around campus there will be easy access to public transportation, restaurants, and plenty of events within a walking distance. Based on everything stated above, it can be seen that IUPUI is the best choice for housing the interns. "
   ]
  }
 ],
 "metadata": {
  "kernelspec": {
   "display_name": "Python 3",
   "language": "python",
   "name": "python3"
  },
  "language_info": {
   "codemirror_mode": {
    "name": "ipython",
    "version": 3
   },
   "file_extension": ".py",
   "mimetype": "text/x-python",
   "name": "python",
   "nbconvert_exporter": "python",
   "pygments_lexer": "ipython3",
   "version": "3.8.5"
  }
 },
 "nbformat": 4,
 "nbformat_minor": 4
}
